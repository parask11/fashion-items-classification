{
 "cells": [
  {
   "cell_type": "code",
   "execution_count": 1,
   "metadata": {},
   "outputs": [
    {
     "name": "stderr",
     "output_type": "stream",
     "text": [
      "Using TensorFlow backend.\n"
     ]
    }
   ],
   "source": [
    "from keras.layers import *\n",
    "from keras.models import Sequential"
   ]
  },
  {
   "cell_type": "code",
   "execution_count": 2,
   "metadata": {},
   "outputs": [
    {
     "name": "stdout",
     "output_type": "stream",
     "text": [
      "Model: \"sequential_1\"\n",
      "_________________________________________________________________\n",
      "Layer (type)                 Output Shape              Param #   \n",
      "=================================================================\n",
      "conv2d_1 (Conv2D)            (None, 26, 26, 32)        320       \n",
      "_________________________________________________________________\n",
      "max_pooling2d_1 (MaxPooling2 (None, 13, 13, 32)        0         \n",
      "_________________________________________________________________\n",
      "conv2d_2 (Conv2D)            (None, 11, 11, 64)        18496     \n",
      "_________________________________________________________________\n",
      "max_pooling2d_2 (MaxPooling2 (None, 5, 5, 64)          0         \n",
      "_________________________________________________________________\n",
      "conv2d_3 (Conv2D)            (None, 3, 3, 64)          36928     \n",
      "_________________________________________________________________\n",
      "flatten_1 (Flatten)          (None, 576)               0         \n",
      "_________________________________________________________________\n",
      "dense_1 (Dense)              (None, 64)                36928     \n",
      "_________________________________________________________________\n",
      "dense_2 (Dense)              (None, 10)                650       \n",
      "=================================================================\n",
      "Total params: 93,322\n",
      "Trainable params: 93,322\n",
      "Non-trainable params: 0\n",
      "_________________________________________________________________\n"
     ]
    }
   ],
   "source": [
    "model = Sequential()\n",
    "model.add(Conv2D(32,(3,3),activation='relu',input_shape=(28,28,1)))\n",
    "model.add(MaxPool2D((2,2)))\n",
    "model.add(Conv2D(64,(3,3),activation='relu',input_shape=(28,28,1)))\n",
    "model.add(MaxPool2D((2,2)))\n",
    "model.add(Conv2D(64,(3,3),activation='relu',input_shape=(28,28,1)))\n",
    "model.add(Flatten())\n",
    "model.add(Dense(64,activation='relu'))\n",
    "model.add(Dense(10,activation='softmax'))\n",
    "model.summary()"
   ]
  },
  {
   "cell_type": "code",
   "execution_count": 3,
   "metadata": {},
   "outputs": [
    {
     "name": "stdout",
     "output_type": "stream",
     "text": [
      "Downloading data from https://s3.amazonaws.com/img-datasets/mnist.npz\n",
      "11493376/11490434 [==============================] - 31s 3us/step\n"
     ]
    }
   ],
   "source": [
    "from keras.datasets import mnist\n",
    "from keras.utils import to_categorical\n",
    "(XTrain,YTrain),(XTest,YTest) = mnist.load_data()"
   ]
  },
  {
   "cell_type": "code",
   "execution_count": 4,
   "metadata": {},
   "outputs": [
    {
     "name": "stdout",
     "output_type": "stream",
     "text": [
      "(60000, 28, 28, 1) (60000, 10)\n",
      "(10000, 28, 28, 1) (10000, 10)\n"
     ]
    }
   ],
   "source": [
    "def preprocess_data(X,Y):\n",
    "    X = X.reshape((-1,28,28,1))\n",
    "    X = X/255.0\n",
    "    Y = to_categorical(Y)\n",
    "    return X,Y\n",
    "\n",
    "XTrain,YTrain = preprocess_data(XTrain,YTrain)\n",
    "print(XTrain.shape,YTrain.shape)\n",
    "\n",
    "XTest,YTest = preprocess_data(XTest,YTest)\n",
    "print(XTest.shape,YTest.shape)"
   ]
  },
  {
   "cell_type": "code",
   "execution_count": 5,
   "metadata": {},
   "outputs": [
    {
     "name": "stdout",
     "output_type": "stream",
     "text": [
      "Train on 54000 samples, validate on 6000 samples\n",
      "Epoch 1/20\n",
      "54000/54000 [==============================] - 26s 486us/step - loss: 0.2540 - accuracy: 0.9227 - val_loss: 0.0580 - val_accuracy: 0.9847\n",
      "Epoch 2/20\n",
      "54000/54000 [==============================] - 28s 509us/step - loss: 0.0611 - accuracy: 0.9811 - val_loss: 0.0491 - val_accuracy: 0.9857\n",
      "Epoch 3/20\n",
      "54000/54000 [==============================] - 27s 504us/step - loss: 0.0426 - accuracy: 0.9867 - val_loss: 0.0400 - val_accuracy: 0.9870\n",
      "Epoch 4/20\n",
      "54000/54000 [==============================] - 27s 495us/step - loss: 0.0348 - accuracy: 0.9894 - val_loss: 0.0403 - val_accuracy: 0.9868\n",
      "Epoch 5/20\n",
      "54000/54000 [==============================] - 27s 499us/step - loss: 0.0267 - accuracy: 0.9917 - val_loss: 0.0400 - val_accuracy: 0.9878\n",
      "Epoch 6/20\n",
      "54000/54000 [==============================] - 26s 489us/step - loss: 0.0220 - accuracy: 0.9931 - val_loss: 0.0375 - val_accuracy: 0.9892\n",
      "Epoch 7/20\n",
      "54000/54000 [==============================] - 26s 486us/step - loss: 0.0206 - accuracy: 0.9931 - val_loss: 0.0324 - val_accuracy: 0.9905\n",
      "Epoch 8/20\n",
      "54000/54000 [==============================] - 26s 483us/step - loss: 0.0152 - accuracy: 0.9949 - val_loss: 0.0385 - val_accuracy: 0.9900\n",
      "Epoch 9/20\n",
      "54000/54000 [==============================] - 26s 486us/step - loss: 0.0144 - accuracy: 0.9950 - val_loss: 0.0331 - val_accuracy: 0.9922\n",
      "Epoch 10/20\n",
      "54000/54000 [==============================] - 27s 492us/step - loss: 0.0128 - accuracy: 0.9958 - val_loss: 0.0424 - val_accuracy: 0.9902\n",
      "Epoch 11/20\n",
      "54000/54000 [==============================] - 26s 490us/step - loss: 0.0125 - accuracy: 0.9959 - val_loss: 0.0353 - val_accuracy: 0.9905\n",
      "Epoch 12/20\n",
      "54000/54000 [==============================] - 26s 489us/step - loss: 0.0075 - accuracy: 0.9976 - val_loss: 0.0378 - val_accuracy: 0.9913\n",
      "Epoch 13/20\n",
      "54000/54000 [==============================] - 27s 491us/step - loss: 0.0080 - accuracy: 0.9973 - val_loss: 0.0402 - val_accuracy: 0.9892\n",
      "Epoch 14/20\n",
      "54000/54000 [==============================] - 27s 491us/step - loss: 0.0084 - accuracy: 0.9971 - val_loss: 0.0369 - val_accuracy: 0.9915\n",
      "Epoch 15/20\n",
      "54000/54000 [==============================] - 26s 481us/step - loss: 0.0087 - accuracy: 0.9973 - val_loss: 0.0389 - val_accuracy: 0.9913\n",
      "Epoch 16/20\n",
      "54000/54000 [==============================] - 26s 482us/step - loss: 0.0068 - accuracy: 0.9979 - val_loss: 0.0367 - val_accuracy: 0.9923\n",
      "Epoch 17/20\n",
      "54000/54000 [==============================] - 26s 484us/step - loss: 0.0065 - accuracy: 0.9977 - val_loss: 0.0392 - val_accuracy: 0.9913\n",
      "Epoch 18/20\n",
      "54000/54000 [==============================] - 26s 483us/step - loss: 0.0038 - accuracy: 0.9988 - val_loss: 0.0431 - val_accuracy: 0.9915\n",
      "Epoch 19/20\n",
      "54000/54000 [==============================] - 26s 485us/step - loss: 0.0048 - accuracy: 0.9984 - val_loss: 0.0382 - val_accuracy: 0.9923\n",
      "Epoch 20/20\n",
      "54000/54000 [==============================] - 26s 487us/step - loss: 0.0047 - accuracy: 0.9983 - val_loss: 0.0483 - val_accuracy: 0.9912\n"
     ]
    }
   ],
   "source": [
    "model.compile(optimizer='adam',loss='categorical_crossentropy',metrics=['accuracy'])\n",
    "hist = model.fit(XTrain,YTrain,epochs=20,validation_split=0.1,batch_size=128)"
   ]
  },
  {
   "cell_type": "code",
   "execution_count": 7,
   "metadata": {},
   "outputs": [
    {
     "name": "stdout",
     "output_type": "stream",
     "text": [
      "10000/10000 [==============================] - 2s 190us/step\n"
     ]
    }
   ],
   "source": [
    "loss,accuracy = model.evaluate(XTest,YTest)"
   ]
  },
  {
   "cell_type": "code",
   "execution_count": 8,
   "metadata": {},
   "outputs": [
    {
     "name": "stdout",
     "output_type": "stream",
     "text": [
      "Loss on testing set is:  0.033557225394566\n",
      "Accuracy on testing set is:  0.991599977016449\n"
     ]
    }
   ],
   "source": [
    "print(\"Loss on testing set is: \",loss)\n",
    "print(\"Accuracy on testing set is: \",accuracy)"
   ]
  },
  {
   "cell_type": "code",
   "execution_count": null,
   "metadata": {},
   "outputs": [],
   "source": []
  }
 ],
 "metadata": {
  "kernelspec": {
   "display_name": "Python 3",
   "language": "python",
   "name": "python3"
  },
  "language_info": {
   "codemirror_mode": {
    "name": "ipython",
    "version": 3
   },
   "file_extension": ".py",
   "mimetype": "text/x-python",
   "name": "python",
   "nbconvert_exporter": "python",
   "pygments_lexer": "ipython3",
   "version": "3.7.4"
  }
 },
 "nbformat": 4,
 "nbformat_minor": 2
}
